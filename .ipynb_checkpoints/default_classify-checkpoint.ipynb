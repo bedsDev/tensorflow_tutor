{
 "cells": [
  {
   "cell_type": "code",
   "execution_count": 108,
   "metadata": {
    "collapsed": true
   },
   "outputs": [],
   "source": [
    "import tensorflow as tf\n",
    "import csv\n",
    "import numpy as np    \n",
    "import pandas as pd"
   ]
  },
  {
   "cell_type": "code",
   "execution_count": 15,
   "metadata": {
    "collapsed": false
   },
   "outputs": [],
   "source": [
    "# default_list = []\n",
    "\n",
    "# with open(\"Test/Data/ccdefault.csv\") as csvfile:\n",
    "#     default_data = csv.reader(csvfile,delimiter = \",\")\n",
    "#     for row in default_data:\n",
    "# #         print(row)\n",
    "#         default_list.append(row)"
   ]
  },
  {
   "cell_type": "code",
   "execution_count": 119,
   "metadata": {
    "collapsed": false
   },
   "outputs": [],
   "source": [
    "# print(default_list)\n",
    "default_data_pdf = pd.DataFrame.from_csv(\"Test/Data/ccdefault.csv\")\n",
    "# default_data_pdf\n",
    "# feature_list = ['LIMIT_BAL', 'SEX', 'EDUCATION', 'MARRIAGE', 'AGE', 'PAY_0', 'PAY_2',\n",
    "#        'PAY_3', 'PAY_4', 'PAY_5', 'PAY_6', 'BILL_AMT1', 'BILL_AMT2',\n",
    "#        'BILL_AMT3', 'BILL_AMT4', 'BILL_AMT5', 'BILL_AMT6', 'PAY_AMT1',\n",
    "#        'PAY_AMT2', 'PAY_AMT3', 'PAY_AMT4', 'PAY_AMT5', 'PAY_AMT6']\n",
    "\n",
    "# to customise the feature list\n",
    "feature_list = ['LIMIT_BAL', 'SEX', 'EDUCATION', 'MARRIAGE', 'AGE', 'PAY_0', 'PAY_2',\n",
    "       'PAY_3', 'PAY_4', 'PAY_5', 'PAY_6', 'BILL_AMT1', 'BILL_AMT2',\n",
    "       'BILL_AMT3', 'BILL_AMT4', 'BILL_AMT5', 'BILL_AMT6', 'PAY_AMT1',\n",
    "       'PAY_AMT2', 'PAY_AMT3', 'PAY_AMT4', 'PAY_AMT5', 'PAY_AMT6']\n",
    "\n",
    "feature_list = ['SEX', 'EDUCATION', 'MARRIAGE', 'AGE', 'PAY_0', 'PAY_2',\n",
    "       'PAY_3', 'PAY_4', 'PAY_5', 'PAY_6', 'BILL_AMT1', 'BILL_AMT2',\n",
    "       'BILL_AMT3', 'BILL_AMT4', 'BILL_AMT5', 'BILL_AMT6', 'PAY_AMT1',\n",
    "       'PAY_AMT2', 'PAY_AMT3', 'PAY_AMT4', 'PAY_AMT5', 'PAY_AMT6']\n",
    "# default_data_pdf.shape\n",
    "\n",
    "feature_num = len(feature_list)"
   ]
  },
  {
   "cell_type": "markdown",
   "metadata": {},
   "source": [
    "# to split the data set to training and test set\n"
   ]
  },
  {
   "cell_type": "code",
   "execution_count": 129,
   "metadata": {
    "collapsed": false
   },
   "outputs": [
    {
     "name": "stdout",
     "output_type": "stream",
     "text": [
      "(30000, 22) (30000, 1)\n"
     ]
    }
   ],
   "source": [
    "training_set_size = 25000\n",
    "test_set_size = default_data_pdf.shape[0] -training_set_size\n",
    "\n",
    "feature_pdf = default_data_pdf.loc[:, feature_list]\n",
    "label_pdf = default_data_pdf.loc[:, [\"DEFAULT\"]]\n",
    "print(feature_pdf.shape,label_pdf.shape)\n",
    "training_pdf = feature_pdf.iloc[0:training_set_size, ]\n",
    "training_label_pdf = label_pdf.iloc[0:training_set_size, ]\n",
    " \n",
    "test_pdf = feature_pdf.iloc[training_set_size: ,]\n",
    "test_label_pdf = label_pdf.iloc[training_set_size:, ]\n",
    "\n",
    "\n",
    "# training_data_array = training_pdf.values\n",
    "input_x = np.array([x  for x in training_pdf.values]).astype(np.int)\n",
    "# get a vector [default, not default]\n",
    "label_y = np.array([[x[0], 1 -int( x[0] )] for x in training_label_pdf.values]).astype(np.int)\n",
    "\n",
    "\n",
    "\n",
    "test_input_x = np.array([x  for x in test_pdf.values]).astype(np.int)\n",
    "# get a vector [default, not default]\n",
    "test_label_y = np.array([[x[0], 1 -int( x[0] )] for x in test_label_pdf.values]).astype(np.int)\n",
    "\n",
    "\n",
    "\n"
   ]
  },
  {
   "cell_type": "code",
   "execution_count": 132,
   "metadata": {
    "collapsed": false
   },
   "outputs": [],
   "source": [
    "# label_y.shape"
   ]
  },
  {
   "cell_type": "code",
   "execution_count": 138,
   "metadata": {
    "collapsed": false
   },
   "outputs": [],
   "source": [
    "# print(label_y)\n",
    "def get_batch(num):\n",
    "    batch_indx = np.random.randint(0,feature_num, num)\n",
    "    \n",
    "    x_batch = [input_x[x] for x in batch_indx]\n",
    "    y_batch = [label_y[x] for x in batch_indx]\n",
    "    \n",
    "    return x_batch,y_batch"
   ]
  },
  {
   "cell_type": "code",
   "execution_count": 139,
   "metadata": {
    "collapsed": false
   },
   "outputs": [],
   "source": [
    "# print(len(default_list[0]))\n",
    "# len(label_y[0])"
   ]
  },
  {
   "cell_type": "code",
   "execution_count": 140,
   "metadata": {
    "collapsed": false
   },
   "outputs": [],
   "source": [
    "# feature_num = len(default_list[0])-2\n",
    "x = tf.placeholder(tf.float32,[None, feature_num])\n",
    "W = tf.Variable(tf.zeros([feature_num,2]))\n",
    "b = tf.Variable(tf.zeros([2]))"
   ]
  },
  {
   "cell_type": "code",
   "execution_count": 141,
   "metadata": {
    "collapsed": false
   },
   "outputs": [],
   "source": [
    "y = tf.nn.softmax(tf.matmul(x,W)+b)\n",
    "y_ = tf.placeholder(tf.float32,[None,2])\n"
   ]
  },
  {
   "cell_type": "code",
   "execution_count": 142,
   "metadata": {
    "collapsed": false
   },
   "outputs": [],
   "source": [
    "cross_entropy = tf.reduce_mean(\n",
    "      tf.nn.softmax_cross_entropy_with_logits(labels=y_, logits=y))\n",
    "train_step = tf.train.GradientDescentOptimizer(0.5).minimize(cross_entropy)\n",
    "\n",
    "sess = tf.InteractiveSession()\n",
    "tf.global_variables_initializer().run()\n",
    "  # Train\n",
    "\n",
    "for _ in range(100):\n",
    "    batch_xs, batch_ys = get_batch(100)\n",
    "    sess.run(train_step, feed_dict={x: batch_xs, y_: batch_ys})"
   ]
  },
  {
   "cell_type": "code",
   "execution_count": 102,
   "metadata": {
    "collapsed": false
   },
   "outputs": [],
   "source": [
    "# print(default_list[1])"
   ]
  },
  {
   "cell_type": "code",
   "execution_count": 143,
   "metadata": {
    "collapsed": false
   },
   "outputs": [],
   "source": [
    "correct_prediction = tf.equal(tf.argmax(y, 1), tf.argmax(y_, 1))\n",
    "accuracy = tf.reduce_mean(tf.cast(correct_prediction, tf.float32))"
   ]
  },
  {
   "cell_type": "code",
   "execution_count": 144,
   "metadata": {
    "collapsed": false
   },
   "outputs": [
    {
     "name": "stdout",
     "output_type": "stream",
     "text": [
      "0.77432\n"
     ]
    }
   ],
   "source": [
    "print(sess.run(accuracy,feed_dict={x: input_x,y_:label_y}))"
   ]
  },
  {
   "cell_type": "code",
   "execution_count": 145,
   "metadata": {
    "collapsed": false
   },
   "outputs": [
    {
     "name": "stdout",
     "output_type": "stream",
     "text": [
      "0.7848\n"
     ]
    }
   ],
   "source": [
    "print(sess.run(accuracy,feed_dict={x: test_input_x,y_:test_label_y}))"
   ]
  },
  {
   "cell_type": "code",
   "execution_count": null,
   "metadata": {
    "collapsed": true
   },
   "outputs": [],
   "source": []
  }
 ],
 "metadata": {
  "kernelspec": {
   "display_name": "Python [default]",
   "language": "python",
   "name": "python3"
  },
  "language_info": {
   "codemirror_mode": {
    "name": "ipython",
    "version": 3
   },
   "file_extension": ".py",
   "mimetype": "text/x-python",
   "name": "python",
   "nbconvert_exporter": "python",
   "pygments_lexer": "ipython3",
   "version": "3.5.2"
  }
 },
 "nbformat": 4,
 "nbformat_minor": 1
}
