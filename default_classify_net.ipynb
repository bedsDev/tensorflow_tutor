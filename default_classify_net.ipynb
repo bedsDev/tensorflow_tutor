{
 "cells": [
  {
   "cell_type": "code",
   "execution_count": 18,
   "metadata": {
    "collapsed": false
   },
   "outputs": [],
   "source": [
    "import network\n",
    "import csv\n",
    "import numpy as np    \n",
    "import pandas as pd\n",
    "import random\n",
    "import tensorflow as tf\n"
   ]
  },
  {
   "cell_type": "code",
   "execution_count": 19,
   "metadata": {
    "collapsed": false
   },
   "outputs": [],
   "source": [
    "# default_list = []\n",
    "\n",
    "# with open(\"Test/Data/ccdefault.csv\") as csvfile:\n",
    "#     default_data = csv.reader(csvfile,delimiter = \",\")\n",
    "#     for row in default_data:\n",
    "# #         print(row)\n",
    "#         default_list.append(row)"
   ]
  },
  {
   "cell_type": "code",
   "execution_count": null,
   "metadata": {
    "collapsed": true
   },
   "outputs": [],
   "source": []
  },
  {
   "cell_type": "code",
   "execution_count": 20,
   "metadata": {
    "collapsed": false
   },
   "outputs": [],
   "source": [
    "# print(default_list)\n",
    "default_data_pdf = pd.DataFrame.from_csv(\"Test/Data/ccdefault.csv\")\n",
    "# default_data_pdf\n",
    "# feature_list = ['LIMIT_BAL', 'SEX', 'EDUCATION', 'MARRIAGE', 'AGE', 'PAY_0', 'PAY_2',\n",
    "#        'PAY_3', 'PAY_4', 'PAY_5', 'PAY_6', 'BILL_AMT1', 'BILL_AMT2',\n",
    "#        'BILL_AMT3', 'BILL_AMT4', 'BILL_AMT5', 'BILL_AMT6', 'PAY_AMT1',\n",
    "#        'PAY_AMT2', 'PAY_AMT3', 'PAY_AMT4', 'PAY_AMT5', 'PAY_AMT6']\n",
    "\n",
    "# to customise the feature list\n",
    "feature_list = ['LIMIT_BAL', 'SEX', 'EDUCATION', 'MARRIAGE', 'AGE', 'PAY_0', 'PAY_2',\n",
    "       'PAY_3', 'PAY_4', 'PAY_5', 'PAY_6', 'BILL_AMT1', 'BILL_AMT2',\n",
    "       'BILL_AMT3', 'BILL_AMT4', 'BILL_AMT5', 'BILL_AMT6', 'PAY_AMT1',\n",
    "       'PAY_AMT2', 'PAY_AMT3', 'PAY_AMT4', 'PAY_AMT5', 'PAY_AMT6']\n",
    "\n",
    "feature_list = ['SEX', 'EDUCATION', 'MARRIAGE', 'AGE', 'PAY_0', 'PAY_2',\n",
    "       'PAY_3', 'PAY_4', 'PAY_5', 'PAY_6', 'BILL_AMT1', 'BILL_AMT2',\n",
    "       'BILL_AMT3', 'BILL_AMT4', 'BILL_AMT5', 'BILL_AMT6', 'PAY_AMT1',\n",
    "       'PAY_AMT2', 'PAY_AMT3', 'PAY_AMT4', 'PAY_AMT5', 'PAY_AMT6']\n",
    "# default_data_pdf.shape\n",
    "\n",
    "feature_num = len(feature_list)"
   ]
  },
  {
   "cell_type": "markdown",
   "metadata": {},
   "source": [
    "# to split the data set to training and test set\n"
   ]
  },
  {
   "cell_type": "code",
   "execution_count": 21,
   "metadata": {
    "collapsed": false
   },
   "outputs": [
    {
     "name": "stdout",
     "output_type": "stream",
     "text": [
      "(30000, 22) (30000, 1)\n"
     ]
    }
   ],
   "source": [
    "training_set_size = 25000\n",
    "test_set_size = default_data_pdf.shape[0] -training_set_size\n",
    "\n",
    "feature_pdf = default_data_pdf.loc[:, feature_list]\n",
    "label_pdf = default_data_pdf.loc[:, [\"DEFAULT\"]]\n",
    "print(feature_pdf.shape,label_pdf.shape)\n",
    "training_pdf = feature_pdf.iloc[0:training_set_size, ]\n",
    "training_label_pdf = label_pdf.iloc[0:training_set_size, ]\n",
    " \n",
    "test_pdf = feature_pdf.iloc[training_set_size: ,]\n",
    "test_label_pdf = label_pdf.iloc[training_set_size:, ]\n",
    "\n",
    "\n",
    "# training_data_array = training_pdf.values\n",
    "input_x = np.array([x  for x in training_pdf.values]).astype(np.int)\n",
    "# get a vector [default, not default]\n",
    "label_y = np.array([[x[0], 1 -int( x[0] )] for x in training_label_pdf.values]).astype(np.int)\n",
    "\n",
    "\n",
    "\n",
    "test_input_x = np.array([x  for x in test_pdf.values]).astype(np.int)\n",
    "# get a vector [default, not default]\n",
    "test_label_y = np.array([[x[0], 1 -int( x[0] )] for x in test_label_pdf.values]).astype(np.int)\n",
    "\n",
    "\n",
    "\n"
   ]
  },
  {
   "cell_type": "code",
   "execution_count": 22,
   "metadata": {
    "collapsed": false
   },
   "outputs": [],
   "source": [
    "# label_y.shape"
   ]
  },
  {
   "cell_type": "code",
   "execution_count": 23,
   "metadata": {
    "collapsed": false
   },
   "outputs": [],
   "source": [
    "# print(label_y)\n",
    "def get_batch(num):\n",
    "    batch_indx = np.random.randint(0,feature_num, num)\n",
    "    \n",
    "    x_batch = [input_x[x] for x in batch_indx]\n",
    "    y_batch = [label_y[x] for x in batch_indx]\n",
    "    \n",
    "    return x_batch,y_batch\n",
    "def batch_generator(batch_sz):\n",
    "    length = input_x.size\n",
    "    \n",
    "    index_array = np.arange(length)\n",
    "    random.shuffle(index_array)\n",
    "    counter = 0\n",
    "    \n",
    "    while counter  < length:\n",
    "        yield input_x[counter: counter + batch_sz],label_y[counter: counter + batch_sz]\n",
    "        counter += batch_sz\n",
    "        "
   ]
  },
  {
   "cell_type": "code",
   "execution_count": 24,
   "metadata": {
    "collapsed": false
   },
   "outputs": [],
   "source": [
    "# print(len(default_list[0]))\n",
    "# len(label_y[0])"
   ]
  },
  {
   "cell_type": "code",
   "execution_count": 25,
   "metadata": {
    "collapsed": false
   },
   "outputs": [],
   "source": [
    "# feature_num = len(default_list[0])-2\n",
    "x = tf.placeholder(tf.float32,[None, feature_num])\n",
    "W = tf.Variable(tf.zeros([feature_num,2]))\n",
    "b = tf.Variable(tf.zeros([2]))"
   ]
  },
  {
   "cell_type": "code",
   "execution_count": 26,
   "metadata": {
    "collapsed": false
   },
   "outputs": [],
   "source": [
    "y = tf.nn.softmax(tf.matmul(x,W)+b)\n",
    "y_ = tf.placeholder(tf.float32,[None,2])\n"
   ]
  },
  {
   "cell_type": "code",
   "execution_count": null,
   "metadata": {
    "collapsed": false
   },
   "outputs": [
    {
     "name": "stdout",
     "output_type": "stream",
     "text": [
      "there epoch: 2, and batch size: 100\n",
      "epoch: 0...\n"
     ]
    }
   ],
   "source": [
    "cross_entropy = tf.reduce_mean(\n",
    "      tf.nn.softmax_cross_entropy_with_logits(labels=y_, logits=y))\n",
    "train_step = tf.train.GradientDescentOptimizer(0.5).minimize(cross_entropy)\n",
    "\n",
    "sess = tf.InteractiveSession()\n",
    "tf.global_variables_initializer().run()\n",
    "\n",
    "\n",
    "  # Train\n",
    "epoch = 2\n",
    "batch_size = 100\n",
    "print(\"there epoch: {}, and batch size: {}\".format(epoch,batch_size))\n",
    "for e in range(epoch):\n",
    "    print(\"epoch: {}...\".format(e))\n",
    "    for batch in batch_generator(batch_size):\n",
    "        sess.run(train_step, feed_dict={x: batch[0], y_: batch[1]})\n",
    "    correct_prediction = tf.equal(tf.argmax(y, 1), tf.argmax(y_, 1))\n",
    "    accuracy = tf.reduce_mean(tf.cast(correct_prediction, tf.float32))\n",
    "    print(\"\\tinput dataset accuracy: {}\".format(sess.run(accuracy,feed_dict={x: input_x,y_:label_y})))\n",
    "    print(\"\\ttest  dataset accuracy: {}\".format(sess.run(accuracy,feed_dict={x: test_input_x,y_:test_label_y})))\n",
    "          \n",
    "    \n",
    "    \n"
   ]
  },
  {
   "cell_type": "code",
   "execution_count": 102,
   "metadata": {
    "collapsed": false
   },
   "outputs": [],
   "source": [
    "# print(default_list[1])"
   ]
  },
  {
   "cell_type": "code",
   "execution_count": 143,
   "metadata": {
    "collapsed": false
   },
   "outputs": [],
   "source": [
    "correct_prediction = tf.equal(tf.argmax(y, 1), tf.argmax(y_, 1))\n",
    "accuracy = tf.reduce_mean(tf.cast(correct_prediction, tf.float32))"
   ]
  },
  {
   "cell_type": "code",
   "execution_count": 144,
   "metadata": {
    "collapsed": false
   },
   "outputs": [
    {
     "name": "stdout",
     "output_type": "stream",
     "text": [
      "0.77432\n"
     ]
    }
   ],
   "source": [
    "print(sess.run(accuracy,feed_dict={x: input_x,y_:label_y}))"
   ]
  },
  {
   "cell_type": "code",
   "execution_count": 145,
   "metadata": {
    "collapsed": false
   },
   "outputs": [
    {
     "name": "stdout",
     "output_type": "stream",
     "text": [
      "0.7848\n"
     ]
    }
   ],
   "source": [
    "print(sess.run(accuracy,feed_dict={x: test_input_x,y_:test_label_y}))"
   ]
  },
  {
   "cell_type": "code",
   "execution_count": 5,
   "metadata": {
    "collapsed": false
   },
   "outputs": [
    {
     "data": {
      "text/plain": [
       "range(0, 100)"
      ]
     },
     "execution_count": 5,
     "metadata": {},
     "output_type": "execute_result"
    }
   ],
   "source": [
    "range(0,100)"
   ]
  },
  {
   "cell_type": "code",
   "execution_count": 6,
   "metadata": {
    "collapsed": false
   },
   "outputs": [
    {
     "data": {
      "text/plain": [
       "array([10, 11, 12, 13, 14, 15, 16, 17, 18, 19, 20, 21, 22, 23, 24, 25, 26,\n",
       "       27, 28, 29, 30, 31, 32, 33, 34, 35, 36, 37, 38, 39, 40, 41, 42, 43,\n",
       "       44, 45, 46, 47, 48, 49, 50, 51, 52, 53, 54, 55, 56, 57, 58, 59, 60,\n",
       "       61, 62, 63, 64, 65, 66, 67, 68, 69, 70, 71, 72, 73, 74, 75, 76, 77,\n",
       "       78, 79, 80, 81, 82, 83, 84, 85, 86, 87, 88, 89, 90, 91, 92, 93, 94,\n",
       "       95, 96, 97, 98, 99])"
      ]
     },
     "execution_count": 6,
     "metadata": {},
     "output_type": "execute_result"
    }
   ],
   "source": [
    "np.arange(10,100)"
   ]
  },
  {
   "cell_type": "code",
   "execution_count": 7,
   "metadata": {
    "collapsed": true
   },
   "outputs": [],
   "source": [
    "def batch_generator(batch_sz):\n",
    "    length = input_x.size\n",
    "    \n",
    "    index_array = np.arrange(length)\n",
    "    random.shuffle(index_array)\n",
    "    counter = 0\n",
    "    \n",
    "    while counter  < length:\n",
    "        yield input_x[counter: counter + batch_sz],label[counter: counter + batch_sz]\n",
    "        counter += batch_sz\n",
    "        \n",
    "        "
   ]
  },
  {
   "cell_type": "code",
   "execution_count": 19,
   "metadata": {
    "collapsed": false
   },
   "outputs": [
    {
     "data": {
      "text/plain": [
       "(25000, 22)"
      ]
     },
     "execution_count": 19,
     "metadata": {},
     "output_type": "execute_result"
    }
   ],
   "source": [
    "input_x.shape"
   ]
  },
  {
   "cell_type": "code",
   "execution_count": 21,
   "metadata": {
    "collapsed": false
   },
   "outputs": [],
   "source": [
    "a = np.arange(10)"
   ]
  },
  {
   "cell_type": "code",
   "execution_count": 23,
   "metadata": {
    "collapsed": true
   },
   "outputs": [],
   "source": [
    "random.shuffle(a)"
   ]
  },
  {
   "cell_type": "code",
   "execution_count": 24,
   "metadata": {
    "collapsed": false
   },
   "outputs": [
    {
     "data": {
      "text/plain": [
       "array([5, 4, 7, 1, 8, 2, 3, 9, 0, 6])"
      ]
     },
     "execution_count": 24,
     "metadata": {},
     "output_type": "execute_result"
    }
   ],
   "source": [
    "a"
   ]
  },
  {
   "cell_type": "code",
   "execution_count": 31,
   "metadata": {
    "collapsed": false
   },
   "outputs": [
    {
     "name": "stdout",
     "output_type": "stream",
     "text": [
      "[0 1 2 3 4 5 6 7 8 9]\n",
      "[2 7 6 1 4 0 8 5 9 3]\n"
     ]
    }
   ],
   "source": [
    "a = np.arange(10)\n",
    "print(a)\n",
    "random.shuffle(a)\n",
    "print(a)"
   ]
  },
  {
   "cell_type": "code",
   "execution_count": 26,
   "metadata": {
    "collapsed": false
   },
   "outputs": [
    {
     "data": {
      "text/plain": [
       "array([3, 4, 1, 9, 5, 0, 8, 2, 6, 7])"
      ]
     },
     "execution_count": 26,
     "metadata": {},
     "output_type": "execute_result"
    }
   ],
   "source": [
    "a"
   ]
  },
  {
   "cell_type": "code",
   "execution_count": null,
   "metadata": {
    "collapsed": true
   },
   "outputs": [],
   "source": []
  }
 ],
 "metadata": {
  "anaconda-cloud": {},
  "kernelspec": {
   "display_name": "Python [default]",
   "language": "python",
   "name": "python3"
  },
  "language_info": {
   "codemirror_mode": {
    "name": "ipython",
    "version": 3
   },
   "file_extension": ".py",
   "mimetype": "text/x-python",
   "name": "python",
   "nbconvert_exporter": "python",
   "pygments_lexer": "ipython3",
   "version": "3.5.2"
  }
 },
 "nbformat": 4,
 "nbformat_minor": 1
}
